{
 "cells": [
  {
   "cell_type": "code",
   "execution_count": 2,
   "id": "7f27491f-30d8-407f-bac3-64bb12af1844",
   "metadata": {},
   "outputs": [],
   "source": [
    "from collections import defaultdict\n",
    "import numpy as np\n",
    "import os\n",
    "from tqdm import tqdm"
   ]
  },
  {
   "cell_type": "code",
   "execution_count": 60,
   "id": "a056c7bc-82ae-474f-83f8-dc18f6cd91e8",
   "metadata": {},
   "outputs": [],
   "source": [
    "PATH = 'data'\n",
    "PATH_IMG = 'imgs'"
   ]
  },
  {
   "cell_type": "code",
   "execution_count": 4,
   "id": "846f2cfd-84ed-4361-a8bb-b716f254b1d4",
   "metadata": {},
   "outputs": [
    {
     "name": "stderr",
     "output_type": "stream",
     "text": [
      "100%|██████████████████████████████████████| 4000/4000 [00:32<00:00, 124.07it/s]\n"
     ]
    }
   ],
   "source": [
    "attns = defaultdict(list)\n",
    "c = 0\n",
    "files = sorted(os.listdir(PATH))\n",
    "for f in tqdm(files):\n",
    "    path = os.path.join(PATH, f)\n",
    "    attn = np.load(path)\n",
    "    attns[c%4].append(attn)\n",
    "    c += 1"
   ]
  },
  {
   "cell_type": "code",
   "execution_count": 119,
   "id": "38555db9-f329-4206-84d6-f276dbc2cd67",
   "metadata": {},
   "outputs": [],
   "source": [
    "HEAD = '3.3'\n",
    "layer, head = map(int, HEAD.split('.'))\n",
    "arr = np.array(attns[layer])[:,head,:]"
   ]
  },
  {
   "cell_type": "code",
   "execution_count": 120,
   "id": "2056e5f3-e121-4231-890c-c19a32738a51",
   "metadata": {},
   "outputs": [
    {
     "data": {
      "text/html": [
       "\n",
       "        <iframe\n",
       "            width=\"100%\"\n",
       "            height=\"650\"\n",
       "            src=\"http://127.0.0.1:8050/\"\n",
       "            frameborder=\"0\"\n",
       "            allowfullscreen\n",
       "            \n",
       "        ></iframe>\n",
       "        "
      ],
      "text/plain": [
       "<IPython.lib.display.IFrame at 0x7ff90b275f10>"
      ]
     },
     "metadata": {},
     "output_type": "display_data"
    }
   ],
   "source": [
    "from flask import Flask, send_from_directory\n",
    "import dash\n",
    "from dash import html, dcc, Input, Output\n",
    "import plotly.express as px\n",
    "import numpy as np\n",
    "\n",
    "server = Flask(__name__)\n",
    "app = dash.Dash(__name__, server=server)\n",
    "\n",
    "n = 4  # Scale factor for display\n",
    "fig = px.imshow((1 - arr.T), color_continuous_scale='gray', origin='upper', labels={'color': 'Pixel Value'})\n",
    "fig.update_xaxes(visible=False)\n",
    "fig.update_yaxes(visible=False)\n",
    "fig.update_layout(width=1000*n, height=129*n, margin=dict(l=0, r=0, t=0, b=20), coloraxis_showscale=False)\n",
    "\n",
    "app.layout = html.Div([\n",
    "    dcc.Graph(id='main-image', figure=fig, style={'width': '90vw', 'height': '77vh'}),\n",
    "    html.Div([\n",
    "        html.Img(id='hover-image-1', src='', style={'maxWidth': '200px', 'display': 'block'}),\n",
    "        html.Img(id='hover-image-2', src='', style={'maxWidth': '200px', 'display': 'block'})\n",
    "    ], style={'position': 'relative'})\n",
    "])\n",
    "\n",
    "@server.route('/images/<path:filename>')\n",
    "def serve_image(filename):\n",
    "    return send_from_directory(PATH_IMG, filename)\n",
    "\n",
    "@app.callback(\n",
    "    [Output('hover-image-1', 'src'), Output('hover-image-2', 'src')],\n",
    "    [Output('hover-image-1', 'style'), Output('hover-image-2', 'style')],\n",
    "    Input('main-image', 'hoverData')\n",
    ")\n",
    "def update_hover_images(hoverData):\n",
    "    if hoverData is not None:\n",
    "        x = hoverData['points'][0]['x']\n",
    "        y = hoverData['points'][0]['y']\n",
    "        x2 = x - (129 - y)\n",
    "        \n",
    "        # Filenames for both images\n",
    "        filename_1 = f\"{x:06d}.png\"\n",
    "        filename_2 = f\"{x2:06d}.png\" if x2 >= 0 else \"\"\n",
    "        \n",
    "        position_style_1 = {'maxWidth': '200px', 'display': 'block', 'position': 'absolute','left': f'{x*n+130}px'}\n",
    "        position_style_2 = {'maxWidth': '200px', 'display': 'block', 'position': 'absolute','left': f'{x*n}px'}\n",
    "\n",
    "        \n",
    "        return f'/images/{filename_1}', f'/images/{filename_2}', position_style_1, position_style_2\n",
    "    return '', '', {'display': 'none'}, {'display': 'none'}\n",
    "\n",
    "if __name__ == '__main__':\n",
    "    app.run_server(debug=True)\n"
   ]
  },
  {
   "cell_type": "code",
   "execution_count": null,
   "id": "474e3620-7105-40e0-ba48-f38c4ec17982",
   "metadata": {},
   "outputs": [],
   "source": []
  }
 ],
 "metadata": {
  "kernelspec": {
   "display_name": "vent-vpt-interp",
   "language": "python",
   "name": "vent-vpt-interp"
  },
  "language_info": {
   "codemirror_mode": {
    "name": "ipython",
    "version": 3
   },
   "file_extension": ".py",
   "mimetype": "text/x-python",
   "name": "python",
   "nbconvert_exporter": "python",
   "pygments_lexer": "ipython3",
   "version": "3.8.10"
  }
 },
 "nbformat": 4,
 "nbformat_minor": 5
}
